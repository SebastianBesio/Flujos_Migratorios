{
 "cells": [
  {
   "cell_type": "code",
   "execution_count": 58,
   "metadata": {},
   "outputs": [],
   "source": [
    "import pandas as pd"
   ]
  },
  {
   "cell_type": "markdown",
   "metadata": {},
   "source": [
    "#### En este preceso agarramos los datos crudos para eliminar las columnas que no usaremos, dejando solo los datos que sí y luego guardar el dataset limpio."
   ]
  },
  {
   "cell_type": "markdown",
   "metadata": {},
   "source": [
    "### Crecimiento del PiB"
   ]
  },
  {
   "cell_type": "code",
   "execution_count": 59,
   "metadata": {},
   "outputs": [],
   "source": [
    "crecimiento_pib = pd.read_csv(r'datasets/datos_crudos/Crecimiento del PIB per cápita (% anual).csv', encoding='utf-8')"
   ]
  },
  {
   "cell_type": "code",
   "execution_count": 60,
   "metadata": {},
   "outputs": [],
   "source": [
    "eliminar = ['Unnamed: 67','1960','1961','1962','1963','1964','1965','1966','1967','1968','1969','1970','1971','1972','1973','1974','1975','1976','1977','1978','1979','1980','1981','1982','1983','1984','1985','1986','1987','1988','1989','Country Code','Indicator Code', 'Indicator Name']\n",
    "crecimiento_pib.drop(columns=eliminar, axis=1, inplace=True)"
   ]
  },
  {
   "cell_type": "code",
   "execution_count": 61,
   "metadata": {},
   "outputs": [],
   "source": [
    "anios = ['1990','1991','1992', '1993', '1994', '1995', '1996', '1997', '1998', '1999', '2000', '2001', '2002', '2003', '2004', '2005', '2006', '2007', '2008', '2009', '2010', '2011', '2012', '2013', '2014', '2015', '2016', '2017', '2018', '2019', '2020', '2021', '2022']\n",
    "\n",
    "crecimiento_pib = crecimiento_pib.melt(id_vars=['Country Name'], value_vars=anios, var_name='Año', value_name='Valor')\n",
    "crecimiento_pib.rename(columns={'Valor':'Crecimiento del PIB per cápita'}, inplace=True)"
   ]
  },
  {
   "cell_type": "code",
   "execution_count": 26,
   "metadata": {},
   "outputs": [],
   "source": [
    "crecimiento_pib.to_csv('crecimiento_pib.csv', index=False)"
   ]
  },
  {
   "cell_type": "markdown",
   "metadata": {},
   "source": [
    "### Desempleo"
   ]
  },
  {
   "cell_type": "code",
   "execution_count": 62,
   "metadata": {},
   "outputs": [],
   "source": [
    "desempleo = pd.read_csv(r'datasets/datos_crudos/desempleo.csv', encoding='utf-8')\n",
    "pd.set_option('display.max_columns', None)"
   ]
  },
  {
   "cell_type": "code",
   "execution_count": 63,
   "metadata": {},
   "outputs": [],
   "source": [
    "eliminar = ['Unnamed: 67','1960','1961','1962','1963','1964','1965','1966','1967','1968','1969','1970','1971','1972','1973','1974','1975','1976','1977','1978','1979','1980','1981','1982','1983','1984','1985','1986','1987','1988','1989','Country Code','Indicator Code', 'Indicator Name']\n",
    "desempleo.drop(columns=eliminar, axis=1, inplace=True)"
   ]
  },
  {
   "cell_type": "code",
   "execution_count": 64,
   "metadata": {},
   "outputs": [],
   "source": [
    "anios = ['1990','1991','1992', '1993', '1994', '1995', '1996', '1997', '1998', '1999', '2000', '2001', '2002', '2003', '2004', '2005', '2006', '2007', '2008', '2009', '2010', '2011', '2012', '2013', '2014', '2015', '2016', '2017', '2018', '2019', '2020', '2021', '2022']\n",
    "\n",
    "desempleo = desempleo.melt(id_vars=['Country Name'], value_vars=anios, var_name='Año', value_name='Valor')\n",
    "desempleo.rename(columns={'Valor':'Desempleo'}, inplace=True)"
   ]
  },
  {
   "cell_type": "code",
   "execution_count": null,
   "metadata": {},
   "outputs": [],
   "source": [
    "desempleo.to_csv('desempleo.csv', index=False)"
   ]
  },
  {
   "cell_type": "markdown",
   "metadata": {},
   "source": [
    "### PIB per cápita (US$ a precios actuales)"
   ]
  },
  {
   "cell_type": "code",
   "execution_count": 65,
   "metadata": {},
   "outputs": [],
   "source": [
    "pd.set_option('display.max_columns', None)\n",
    "PIB = pd.read_csv(r'datasets/datos_crudos/PIB per cápita (US$ a precios actuales).csv', encoding='utf-8')"
   ]
  },
  {
   "cell_type": "code",
   "execution_count": 66,
   "metadata": {},
   "outputs": [],
   "source": [
    "eliminar = ['Unnamed: 67','1960','1961','1962','1963','1964','1965','1966','1967','1968','1969','1970','1971','1972','1973','1974','1975','1976','1977','1978','1979','1980','1981','1982','1983','1984','1985','1986','1987','1988','1989','Country Code','Indicator Code', 'Indicator Name']\n",
    "PIB.drop(columns=eliminar, axis=1, inplace=True)"
   ]
  },
  {
   "cell_type": "code",
   "execution_count": 67,
   "metadata": {},
   "outputs": [],
   "source": [
    "anios = ['1990','1991','1992', '1993', '1994', '1995', '1996', '1997', '1998', '1999', '2000', '2001', '2002', '2003', '2004', '2005', '2006', '2007', '2008', '2009', '2010', '2011', '2012', '2013', '2014', '2015', '2016', '2017', '2018', '2019', '2020', '2021', '2022']\n",
    "\n",
    "PIB = PIB.melt(id_vars=['Country Name'], value_vars=anios, var_name='Año', value_name='Valor')\n",
    "PIB.rename(columns={'Valor':'PIB per cápita (US$ a precios actuales)'}, inplace=True)"
   ]
  },
  {
   "cell_type": "code",
   "execution_count": null,
   "metadata": {},
   "outputs": [],
   "source": [
    "PIB.to_csv('PIB.csv', index=False)"
   ]
  },
  {
   "cell_type": "markdown",
   "metadata": {},
   "source": [
    "### Tasa de incidencia de la pobreza, sobre la base de la línea de pobreza nacional (% de la población)"
   ]
  },
  {
   "cell_type": "code",
   "execution_count": 68,
   "metadata": {},
   "outputs": [],
   "source": [
    "pobreza = pd.read_csv(r'datasets/datos_crudos/pobreza.csv', encoding='utf-8')"
   ]
  },
  {
   "cell_type": "code",
   "execution_count": 69,
   "metadata": {},
   "outputs": [],
   "source": [
    "eliminar = ['Unnamed: 67','1960','1961','1962','1963','1964','1965','1966','1967','1968','1969','1970','1971','1972','1973','1974','1975','1976','1977','1978','1979','1980','1981','1982','1983','1984','1985','1986','1987','1988','1989','Country Code','Indicator Code', 'Indicator Name']\n",
    "pobreza.drop(columns=eliminar, axis=1, inplace=True)"
   ]
  },
  {
   "cell_type": "code",
   "execution_count": 70,
   "metadata": {},
   "outputs": [],
   "source": [
    "anios = ['1990','1991','1992', '1993', '1994', '1995', '1996', '1997', '1998', '1999', '2000', '2001', '2002', '2003', '2004', '2005', '2006', '2007', '2008', '2009', '2010', '2011', '2012', '2013', '2014', '2015', '2016', '2017', '2018', '2019', '2020', '2021', '2022']\n",
    "\n",
    "pobreza = pobreza.melt(id_vars=['Country Name'], value_vars=anios, var_name='Año', value_name='Valor')\n",
    "pobreza.rename(columns={'Valor':'Tasa de incidencia de la pobreza'}, inplace=True)"
   ]
  },
  {
   "cell_type": "code",
   "execution_count": null,
   "metadata": {},
   "outputs": [],
   "source": [
    "pobreza.to_csv('pobreza.csv', index=False)"
   ]
  },
  {
   "cell_type": "markdown",
   "metadata": {},
   "source": [
    "### Migración neta"
   ]
  },
  {
   "cell_type": "code",
   "execution_count": 71,
   "metadata": {},
   "outputs": [],
   "source": [
    "migracion_neta = pd.read_csv(r'datasets/datos_crudos/migracion_neta.csv', encoding='utf-8')"
   ]
  },
  {
   "cell_type": "code",
   "execution_count": 72,
   "metadata": {},
   "outputs": [],
   "source": [
    "eliminar = ['Unnamed: 67','1960','1961','1962','1963','1964','1965','1966','1967','1968','1969','1970','1971','1972','1973','1974','1975','1976','1977','1978','1979','1980','1981','1982','1983','1984','1985','1986','1987','1988','1989','2022','Country Code','Indicator Code', 'Indicator Name']\n",
    "migracion_neta.drop(columns=eliminar, axis=1, inplace=True)"
   ]
  },
  {
   "cell_type": "code",
   "execution_count": 73,
   "metadata": {},
   "outputs": [],
   "source": [
    "anios = ['1990','1991','1992', '1993', '1994', '1995', '1996', '1997', '1998', '1999', '2000', '2001', '2002', '2003', '2004', '2005', '2006', '2007', '2008', '2009', '2010', '2011', '2012', '2013', '2014', '2015', '2016', '2017', '2018', '2019', '2020', '2021']\n",
    "migracion_neta = migracion_neta.melt(id_vars=['Country Name'], value_vars=anios, var_name='Año', value_name='Migración neta')"
   ]
  },
  {
   "cell_type": "markdown",
   "metadata": {},
   "source": [
    "### Data"
   ]
  },
  {
   "cell_type": "markdown",
   "metadata": {},
   "source": [
    "#### Juntamos todos los datasets en uno."
   ]
  },
  {
   "cell_type": "code",
   "execution_count": 74,
   "metadata": {},
   "outputs": [],
   "source": [
    "pobreza = pd.read_csv(r'datasets/datos_procesados/pobreza.csv', encoding='utf-8')\n",
    "desempleo = pd.read_csv(r'datasets/datos_procesados/desempleo.csv', encoding='utf-8')\n",
    "PIB = pd.read_csv(r'datasets/datos_procesados/PIB.csv', encoding='utf-8')\n",
    "crecimiento_csv = pd.read_csv(r'datasets/datos_procesados/crecimiento_pib.csv', encoding='utf-8')"
   ]
  },
  {
   "cell_type": "code",
   "execution_count": 75,
   "metadata": {},
   "outputs": [],
   "source": [
    "migracion_neta['Tasa de incidencia de la pobreza'] = pobreza['Tasa de incidencia de la pobreza']\n",
    "migracion_neta['Desempleo'] = desempleo['Desempleo']\n",
    "migracion_neta['PIB per cápita (US$ a precios actuales)'] = PIB['PIB per cápita (US$ a precios actuales)']\n",
    "migracion_neta['Crecimiento del PIB per cápita'] = crecimiento_csv['Crecimiento del PIB per cápita']"
   ]
  },
  {
   "cell_type": "code",
   "execution_count": 21,
   "metadata": {},
   "outputs": [],
   "source": [
    "migracion_neta.to_csv('data.csv', index=False)"
   ]
  },
  {
   "cell_type": "markdown",
   "metadata": {},
   "source": [
    "### Datos finales"
   ]
  },
  {
   "cell_type": "markdown",
   "metadata": {},
   "source": [
    "#### Hacemos los últimos cambios a los datos para luego guardarlos todos en uno."
   ]
  },
  {
   "cell_type": "code",
   "execution_count": 77,
   "metadata": {},
   "outputs": [],
   "source": [
    "paises = pd.read_csv('datasets/datos_procesados/paises.csv')\n",
    "data = pd.read_csv('datasets/datos_procesados/data.csv')\n",
    "masivo = pd.read_csv('datasets/datos_procesados/datos_masivos.csv')"
   ]
  },
  {
   "cell_type": "code",
   "execution_count": 78,
   "metadata": {},
   "outputs": [],
   "source": [
    "data = data.merge(paises, on='Country Name')"
   ]
  },
  {
   "cell_type": "code",
   "execution_count": 79,
   "metadata": {},
   "outputs": [],
   "source": [
    "masivo.rename(columns={'country':'Country Name'}, inplace=True)"
   ]
  },
  {
   "cell_type": "code",
   "execution_count": 80,
   "metadata": {},
   "outputs": [],
   "source": [
    "hdi = ['hdi_' + str(anio) for anio in range(1990, 2022)]\n",
    "le = ['le_' + str(anio) for anio in range(1990, 2022)]\n",
    "mys = ['mys_' + str(anio) for anio in range(1990, 2022)]\n",
    "gnipc = ['gnipc_' + str(anio) for anio in range(1990, 2022)]\n",
    "gii = ['gii_' + str(anio) for anio in range(1990, 2022)]\n",
    "columnas_seleccionadas = ['Country Name', 'hdicode'] + hdi + le + mys + gnipc + gii\n",
    "masivo_final = masivo[columnas_seleccionadas]"
   ]
  },
  {
   "cell_type": "code",
   "execution_count": 81,
   "metadata": {},
   "outputs": [],
   "source": [
    "def cambiar_nombre(nombre_viejo, nombre_nuevo):\n",
    "    masivo_final.loc[masivo_final['Country Name'] == nombre_viejo, 'Country Name'] = nombre_nuevo\n",
    "\n",
    "cambiar_nombre('Venezuela (Bolivarian Republic of)', 'Venezuela')\n",
    "cambiar_nombre('Antigua and Barbuda', 'Antigua y Barbuda')\n",
    "cambiar_nombre('Belize', 'Belice')\n",
    "cambiar_nombre('Brazil', 'Brasil')\n",
    "cambiar_nombre('Bolivia (Plurinational State of)', 'Bolivia')\n",
    "cambiar_nombre('Canada', 'Canadá')\n",
    "cambiar_nombre('Grenada', 'Granada')\n",
    "cambiar_nombre('United States', 'Estados Unidos')\n",
    "cambiar_nombre('Grenada', 'Granada')\n",
    "cambiar_nombre('Haiti', 'Haití')\n",
    "cambiar_nombre('Mexico', 'México')\n",
    "cambiar_nombre('Panama', 'Panamá')\n",
    "cambiar_nombre('Peru', 'Perú')\n",
    "cambiar_nombre('Dominican Republic', 'Santa Lucía')\n",
    "cambiar_nombre('Saint Lucia', 'República Dominicana')\n",
    "cambiar_nombre('Trinidad and Tobago', 'Trinidad y Tobago')"
   ]
  },
  {
   "cell_type": "code",
   "execution_count": 82,
   "metadata": {},
   "outputs": [],
   "source": [
    "columnas = list(masivo_final.columns)\n",
    "masivo_final2 = pd.melt(masivo_final, id_vars=['Country Name'], value_vars= columnas[2:34], var_name='Año', value_name='hdi')"
   ]
  },
  {
   "cell_type": "code",
   "execution_count": 83,
   "metadata": {},
   "outputs": [],
   "source": [
    "masivo_final2 = masivo_final2.merge(paises, on='Country Name')"
   ]
  },
  {
   "cell_type": "code",
   "execution_count": 84,
   "metadata": {},
   "outputs": [],
   "source": [
    "data['hdi'] = masivo_final2['hdi']"
   ]
  },
  {
   "cell_type": "code",
   "execution_count": 85,
   "metadata": {},
   "outputs": [],
   "source": [
    "columnas = list(masivo_final.columns)\n",
    "\n",
    "masivo_final2 = pd.melt(masivo_final, id_vars=['Country Name'], value_vars= columnas[34:66], var_name='Año', value_name='Esperanza_vida')\n",
    "masivo_final2 = masivo_final2.merge(paises, on='Country Name')\n",
    "\n",
    "data['Esperanza_vida'] = masivo_final2['Esperanza_vida']"
   ]
  },
  {
   "cell_type": "code",
   "execution_count": 86,
   "metadata": {},
   "outputs": [],
   "source": [
    "columnas = list(masivo_final.columns)\n",
    "\n",
    "masivo_final2 = pd.melt(masivo_final, id_vars=['Country Name'], value_vars= columnas[66:98], var_name='Año', value_name='Año_prom_esc')\n",
    "masivo_final2 = masivo_final2.merge(paises, on='Country Name')\n",
    "data['Año_prom_esc'] = masivo_final2['Año_prom_esc']\n",
    "\n",
    "masivo_final2 = pd.melt(masivo_final, id_vars=['Country Name'], value_vars= columnas[98:130], var_name='Año', value_name='PBI_per_cap_aj')\n",
    "masivo_final2 = masivo_final2.merge(paises, on='Country Name')\n",
    "data['PBI_per_cap_aj'] = masivo_final2['PBI_per_cap_aj']"
   ]
  },
  {
   "cell_type": "code",
   "execution_count": null,
   "metadata": {},
   "outputs": [],
   "source": [
    "data.to_csv('datasets/datos_procesados/datos_final.csv', index=False)"
   ]
  },
  {
   "cell_type": "code",
   "execution_count": 57,
   "metadata": {},
   "outputs": [],
   "source": [
    "data.to_parquet('datasets/datos_procesados/datos_final.pq', index=False)"
   ]
  }
 ],
 "metadata": {
  "kernelspec": {
   "display_name": "Python 3",
   "language": "python",
   "name": "python3"
  },
  "language_info": {
   "codemirror_mode": {
    "name": "ipython",
    "version": 3
   },
   "file_extension": ".py",
   "mimetype": "text/x-python",
   "name": "python",
   "nbconvert_exporter": "python",
   "pygments_lexer": "ipython3",
   "version": "3.11.2"
  },
  "orig_nbformat": 4
 },
 "nbformat": 4,
 "nbformat_minor": 2
}
